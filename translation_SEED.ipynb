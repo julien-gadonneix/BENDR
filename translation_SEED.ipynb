{
 "cells": [
  {
   "cell_type": "code",
   "execution_count": 1,
   "metadata": {},
   "outputs": [],
   "source": [
    "import scipy.io\n",
    "import numpy as np\n",
    "from pathlib import Path\n",
    "import mne\n",
    "import os\n",
    "import torch"
   ]
  },
  {
   "cell_type": "code",
   "execution_count": 2,
   "metadata": {},
   "outputs": [],
   "source": [
    "cur_dir = Path.cwd()\n",
    "path = str(cur_dir.parent) + '/data/SEED/'\n",
    "files_mat = sorted([f for f in os.listdir(path) if f.endswith('.mat') and f != 'label.mat'])\n",
    "labels_mat = scipy.io.loadmat(path + 'label.mat')"
   ]
  },
  {
   "cell_type": "code",
   "execution_count": null,
   "metadata": {},
   "outputs": [],
   "source": [
    "montage = mne.channels.read_custom_montage(path + 'channel_62_pos.locs')\n",
    "print(montage.ch_names)\n",
    "mapping = {}\n",
    "mapping['P7'] = 'T5'\n",
    "mapping['P8'] = 'T6'\n",
    "montage.rename_channels(mapping)\n",
    "print(montage.ch_names)"
   ]
  },
  {
   "cell_type": "code",
   "execution_count": 4,
   "metadata": {},
   "outputs": [],
   "source": [
    "sr = 200\n",
    "# n_subjects = 15\n",
    "n_sessions = 3\n",
    "n_videos = 15\n",
    "n_classes = 3\n",
    "t = 1.\n",
    "samples = int(t * sr)"
   ]
  },
  {
   "cell_type": "code",
   "execution_count": null,
   "metadata": {},
   "outputs": [],
   "source": [
    "labels = labels_mat['label'][0]\n",
    "files_mat.sort()\n",
    "X = []\n",
    "for i, file in enumerate(files_mat):\n",
    "    sub = int(file.split('_')[0])\n",
    "    sess = (i%n_sessions)+1\n",
    "    mat = scipy.io.loadmat(path + file)\n",
    "    for j in range(n_videos):\n",
    "        file_name = f\"S{sub:02}R{sess}{j+1:02}.edf.raw.fif\"\n",
    "        annotation_file_name = f\"S{sub:02}R{j+1:02}.edf.events\"\n",
    "        key = [k for k in mat if k.endswith(f'_eeg{j+1}')][0]\n",
    "        stimuli_eeg_j = mat[key].T\n",
    "        stimuli_eeg_j -= np.mean(stimuli_eeg_j, axis=0)\n",
    "        stimuli_eeg_j /= np.std(stimuli_eeg_j, axis=0)\n",
    "        info = mne.create_info(ch_names=montage.ch_names, sfreq=sr, ch_types=['eeg']*len(montage.ch_names))\n",
    "\n",
    "        raw_stim = mne.io.RawArray(stimuli_eeg_j.T, info)\n",
    "        raw_stim.set_montage(montage)\n",
    "        # raw_stim = mne.preprocessing.compute_current_source_density(raw_stim)\n",
    "\n",
    "        l = stimuli_eeg_j.shape[0]\n",
    "        # for k in range(l//samples):\n",
    "        #     X.append(torch.tensor(stimuli_eeg_j[l-((k+1)*samples):l-(k*samples), :].T, dtype=torch.float32))\n",
    "\n",
    "        annotation_desc = [f'S{labels[j]+1}' for _ in range(l//samples)]\n",
    "        annotation_onset = [k*t for k in range(l//samples)]\n",
    "        annotation_duration = [samples/sr for _ in range(l//samples)]\n",
    "        raw_stim.set_annotations(mne.Annotations(onset=annotation_onset, duration=annotation_duration,\n",
    "                                                description=annotation_desc))\n",
    "        # raw_stim.save(path + f'files/Session{sess}/S{sub:02}/' + file_name, overwrite=True)\n",
    "        # raw_stim.annotations.save(path + f'files/Session{sess}/S{sub:02}/' + annotation_file_name, overwrite=True)\n",
    "        raw_stim.save(path + f'files/Sessions/S{sub:02}/' + file_name, overwrite=True)\n",
    "        raw_stim.annotations.save(path + f'files/Sessions/S{sub:02}/' + annotation_file_name, overwrite=True)\n",
    "# X = torch.stack(X)"
   ]
  },
  {
   "cell_type": "code",
   "execution_count": null,
   "metadata": {},
   "outputs": [],
   "source": [
    "print(\"Max: \", torch.max(X))\n",
    "print(\"Min: \", torch.min(X))"
   ]
  },
  {
   "cell_type": "code",
   "execution_count": null,
   "metadata": {},
   "outputs": [],
   "source": []
  }
 ],
 "metadata": {
  "kernelspec": {
   "display_name": "Python 3",
   "language": "python",
   "name": "python3"
  },
  "language_info": {
   "codemirror_mode": {
    "name": "ipython",
    "version": 3
   },
   "file_extension": ".py",
   "mimetype": "text/x-python",
   "name": "python",
   "nbconvert_exporter": "python",
   "pygments_lexer": "ipython3",
   "version": "3.9.18"
  }
 },
 "nbformat": 4,
 "nbformat_minor": 2
}
