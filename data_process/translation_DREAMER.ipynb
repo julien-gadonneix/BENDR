{
 "cells": [
  {
   "cell_type": "code",
   "execution_count": 2,
   "metadata": {},
   "outputs": [],
   "source": [
    "import scipy.io\n",
    "import numpy as np\n",
    "from pathlib import Path\n",
    "import mne\n",
    "import torch"
   ]
  },
  {
   "cell_type": "code",
   "execution_count": null,
   "metadata": {},
   "outputs": [],
   "source": [
    "cur_dir = Path.cwd()\n",
    "path = str(cur_dir.parent) + '/data/DREAMER/'\n",
    "mat = scipy.io.loadmat(path + 'DREAMER.mat')\n",
    "print(mat.keys())\n",
    "print(mat['__header__'])\n",
    "print(mat['__version__'])\n",
    "print(mat['__globals__'])"
   ]
  },
  {
   "cell_type": "code",
   "execution_count": null,
   "metadata": {},
   "outputs": [],
   "source": [
    "data, eeg_sr, ecg_sr, eeg_electrodes, n_subjects, n_videos, _, _, _, _  = mat['DREAMER'][0, 0]\n",
    "eeg_sr = eeg_sr[0, 0]\n",
    "ecg_sr = ecg_sr[0, 0]\n",
    "eeg_electrodes = eeg_electrodes[0]\n",
    "eeg_electrodes = [eeg_electrodes[i][0] for i in range(eeg_electrodes.size)]\n",
    "n_subjects = n_subjects[0, 0]\n",
    "n_videos = n_videos[0, 0]\n",
    "print(data.shape)\n",
    "print(\"EEG sampling rate\", eeg_sr)\n",
    "print(\"ECG sampling rate\", ecg_sr)\n",
    "print(\"EEG electrodes\", eeg_electrodes)\n",
    "print(\"Number of subjects\", n_subjects)\n",
    "print(\"Number of videos\", n_videos)"
   ]
  },
  {
   "cell_type": "code",
   "execution_count": 6,
   "metadata": {},
   "outputs": [],
   "source": [
    "highcut = None\n",
    "lowcut = .5\n",
    "order = 3\n",
    "t = 1.\n",
    "samples = int(t * eeg_sr)"
   ]
  },
  {
   "cell_type": "code",
   "execution_count": null,
   "metadata": {},
   "outputs": [],
   "source": [
    "for i in range(n_subjects):\n",
    "    _, _, eeg, _, val, aro, dom = data[0, i][0][0]\n",
    "    emotions = {'valence': val, 'arousal': aro, 'dominance': dom}\n",
    "    baseline_eeg, stimuli_eeg = eeg[0, 0]\n",
    "    for j in range(n_videos):\n",
    "        file_name = f\"S{i+1:02}R{j+1:02}.edf.raw.fif\"\n",
    "        annotation_file_name = f\"S{i+1:02}R{j+1:02}.edf.events\"\n",
    "\n",
    "        stimuli_eeg_j = stimuli_eeg[j, 0]\n",
    "        baseline_eeg_j = baseline_eeg[j, 0]\n",
    "        stimuli_eeg_j -= np.mean(baseline_eeg_j, axis=0)\n",
    "        stimuli_eeg_j /= np.std(baseline_eeg_j, axis=0)\n",
    "        info = mne.create_info(ch_names=eeg_electrodes, sfreq=eeg_sr, ch_types=['eeg']*len(eeg_electrodes))\n",
    "\n",
    "        raw_stim = mne.io.RawArray(stimuli_eeg_j.T, info)\n",
    "        raw_stim.filter(lowcut, highcut, \n",
    "                                method='iir', \n",
    "                                iir_params=dict(order=order, ftype='butterworth'))\n",
    "        l = stimuli_eeg_j.shape[0]\n",
    "\n",
    "        for emotion in emotions:\n",
    "\n",
    "            annotation_desc = [emotion[0].upper() + f'{emotions[emotion][j, 0]}' for _ in range(l//samples)]\n",
    "            annotation_onset = [k*t for k in range(l//samples)]\n",
    "            annotation_duration = [samples/eeg_sr for _ in range(l//samples)]\n",
    "            raw_stim.set_annotations(mne.Annotations(onset=annotation_onset, duration=annotation_duration,\n",
    "                                                    description=annotation_desc))\n",
    "            raw_stim.save(path + 'files_' + emotion + f'/S{i+1:02}/' + file_name, overwrite=True)\n",
    "            raw_stim.annotations.save(path + f'files_' + emotion + f'/S{i+1:02}/' + annotation_file_name, overwrite=True)"
   ]
  },
  {
   "cell_type": "code",
   "execution_count": null,
   "metadata": {},
   "outputs": [],
   "source": [
    "for i in range(n_subjects):\n",
    "    _, _, eeg, _, val, aro, dom = data[0, i][0][0]\n",
    "    baseline_eeg, stimuli_eeg = eeg[0, 0]\n",
    "    for j in range(n_videos):\n",
    "        file_name = f\"S{i+1:02}R{j+1:02}.edf.raw.fif\"\n",
    "        annotation_file_name = f\"S{i+1:02}R{j+1:02}.edf.events\"\n",
    "\n",
    "        stimuli_eeg_j = stimuli_eeg[j, 0]\n",
    "        baseline_eeg_j = baseline_eeg[j, 0]\n",
    "        stimuli_eeg_j -= np.mean(baseline_eeg_j, axis=0)\n",
    "        stimuli_eeg_j /= np.std(baseline_eeg_j, axis=0)\n",
    "        info = mne.create_info(ch_names=eeg_electrodes, sfreq=eeg_sr, ch_types=['eeg']*len(eeg_electrodes))\n",
    "\n",
    "        raw_stim = mne.io.RawArray(stimuli_eeg_j.T, info)\n",
    "        raw_stim.filter(lowcut, highcut, \n",
    "                                method='iir', \n",
    "                                iir_params=dict(order=order, ftype='butterworth'))\n",
    "        l = stimuli_eeg_j.shape[0]\n",
    "\n",
    "        annotation_desc = [f'A{aro[j, 0]}' for _ in range(l//samples)]\n",
    "        annotation_onset = [k*2. for k in range(l//samples)]\n",
    "        annotation_duration = [samples/eeg_sr for _ in range(l//samples)]\n",
    "        raw_stim.set_annotations(mne.Annotations(onset=annotation_onset, duration=annotation_duration,\n",
    "                                                description=annotation_desc))\n",
    "        raw_stim.save(path + f'files_arousal/S{i+1:02}/' + file_name, overwrite=True)\n",
    "        raw_stim.annotations.save(path + f'files_arousal/S{i+1:02}/' + annotation_file_name, overwrite=True)"
   ]
  },
  {
   "cell_type": "code",
   "execution_count": null,
   "metadata": {},
   "outputs": [],
   "source": [
    "X = []\n",
    "# t_raw = None\n",
    "# t_raw_2 = None\n",
    "\n",
    "for i in range(n_subjects):\n",
    "    _, _, eeg, _, val, aro, dom = data[0, i][0][0]\n",
    "    baseline_eeg, stimuli_eeg = eeg[0, 0]\n",
    "    for j in range(n_videos):\n",
    "        file_name = f\"S{i+1:02}R{j+1:02}.edf.raw.fif\"\n",
    "        annotation_file_name = f\"S{i+1:02}R{j+1:02}.edf.events\"\n",
    "\n",
    "        stimuli_eeg_j = stimuli_eeg[j, 0]\n",
    "        baseline_eeg_j = baseline_eeg[j, 0]\n",
    "        stimuli_eeg_j -= np.mean(baseline_eeg_j, axis=0)\n",
    "        stimuli_eeg_j /= np.std(baseline_eeg_j, axis=0)\n",
    "        info = mne.create_info(ch_names=eeg_electrodes, sfreq=eeg_sr, ch_types=['eeg']*len(eeg_electrodes))\n",
    "\n",
    "        raw_stim = mne.io.RawArray(stimuli_eeg_j.T, info)\n",
    "        raw_stim.filter(lowcut, highcut, \n",
    "                                method='iir', \n",
    "                                iir_params=dict(order=order, ftype='butterworth'))\n",
    "        l = stimuli_eeg_j.shape[0]\n",
    "\n",
    "        # t_raw = raw_stim\n",
    "\n",
    "        annotation_desc = [f'D{dom[j, 0]}' for _ in range(l//samples)]\n",
    "        annotation_onset = [k*2. for k in range(l//samples)]\n",
    "        annotation_duration = [samples/eeg_sr for _ in range(l//samples)]\n",
    "        raw_stim.set_annotations(mne.Annotations(onset=annotation_onset, duration=annotation_duration,\n",
    "                                                description=annotation_desc))\n",
    "        raw_stim.save(path + f'files_dominance/S{i+1:02}/' + file_name, overwrite=True)\n",
    "        raw_stim.annotations.save(path + f'files_dominance/S{i+1:02}/' + annotation_file_name, overwrite=True)\n",
    "        # t_raw_2 = raw_stim\n",
    "\n",
    "        for k in range(l//samples):\n",
    "            X.append(torch.tensor(stimuli_eeg_j[l-((k+1)*samples):l-(k*samples), :].T, dtype=torch.float32))\n",
    "\n",
    "X = torch.stack(X)"
   ]
  },
  {
   "cell_type": "code",
   "execution_count": null,
   "metadata": {},
   "outputs": [],
   "source": [
    "print(\"Max: \", torch.max(X))\n",
    "print(\"Min: \", torch.min(X))"
   ]
  },
  {
   "cell_type": "code",
   "execution_count": null,
   "metadata": {},
   "outputs": [],
   "source": [
    "cur_dir = Path.cwd()\n",
    "test_path = str(cur_dir.parent) + '/data/MMIDB/S001/'\n",
    "test = mne.io.read_raw_edf(test_path + 'S001R03.edf')"
   ]
  },
  {
   "cell_type": "code",
   "execution_count": null,
   "metadata": {},
   "outputs": [],
   "source": [
    "print(vars(test.annotations))\n",
    "print(test.annotations)\n",
    "print(test.annotations.description)\n",
    "print(test.annotations.onset)\n",
    "print(test.annotations.duration)\n",
    "print(test.annotations.onset*test.info['sfreq'])\n",
    "print(test.annotations.onset*256)\n",
    "print(test.info['sfreq'])"
   ]
  },
  {
   "cell_type": "code",
   "execution_count": null,
   "metadata": {},
   "outputs": [],
   "source": [
    "test"
   ]
  },
  {
   "cell_type": "code",
   "execution_count": null,
   "metadata": {},
   "outputs": [],
   "source": [
    "t_raw.annotations"
   ]
  },
  {
   "cell_type": "code",
   "execution_count": null,
   "metadata": {},
   "outputs": [],
   "source": [
    "t_raw_2.annotations"
   ]
  },
  {
   "cell_type": "code",
   "execution_count": null,
   "metadata": {},
   "outputs": [],
   "source": []
  }
 ],
 "metadata": {
  "kernelspec": {
   "display_name": "intern3A",
   "language": "python",
   "name": "python3"
  },
  "language_info": {
   "codemirror_mode": {
    "name": "ipython",
    "version": 3
   },
   "file_extension": ".py",
   "mimetype": "text/x-python",
   "name": "python",
   "nbconvert_exporter": "python",
   "pygments_lexer": "ipython3",
   "version": "3.9.18"
  }
 },
 "nbformat": 4,
 "nbformat_minor": 2
}
